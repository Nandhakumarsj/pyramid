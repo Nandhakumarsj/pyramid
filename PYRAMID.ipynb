{
 "cells": [
  {
   "cell_type": "code",
   "execution_count": 27,
   "id": "fe23e605",
   "metadata": {},
   "outputs": [
    {
     "name": "stdout",
     "output_type": "stream",
     "text": [
      "Enter a starting character :a\n",
      "Enter a ending character :z\n",
      "                         a\n",
      "                        a b\n",
      "                       a b c\n",
      "                      a b c d\n",
      "                     a b c d e\n",
      "                    a b c d e f\n",
      "                   a b c d e f g\n",
      "                  a b c d e f g h\n",
      "                 a b c d e f g h i\n",
      "                a b c d e f g h i j\n",
      "               a b c d e f g h i j k\n",
      "              a b c d e f g h i j k l\n",
      "             a b c d e f g h i j k l m\n",
      "            a b c d e f g h i j k l m n\n",
      "           a b c d e f g h i j k l m n o\n",
      "          a b c d e f g h i j k l m n o p\n",
      "         a b c d e f g h i j k l m n o p q\n",
      "        a b c d e f g h i j k l m n o p q r\n",
      "       a b c d e f g h i j k l m n o p q r s\n",
      "      a b c d e f g h i j k l m n o p q r s t\n",
      "     a b c d e f g h i j k l m n o p q r s t u\n",
      "    a b c d e f g h i j k l m n o p q r s t u v\n",
      "   a b c d e f g h i j k l m n o p q r s t u v w\n",
      "  a b c d e f g h i j k l m n o p q r s t u v w x\n",
      " a b c d e f g h i j k l m n o p q r s t u v w x y\n",
      "a b c d e f g h i j k l m n o p q r s t u v w x y z\n"
     ]
    }
   ],
   "source": [
    "\"\"\"\n",
    "#Program to display pyramid in abcde structure\n",
    "#By Nandhakumar S J \n",
    "#CSE(AI&ML) \n",
    "\"\"\"\n",
    "while(True):\n",
    "    k1=ord(input(\"Enter a starting character :\"))\n",
    "    k2=ord(input(\"Enter a ending character :\"))\n",
    "    if k1>k2:\n",
    "        print(\"Note! Start value must be smaller than End value\")\n",
    "        raise ValueError\n",
    "        \n",
    "    elif k2>k1:\n",
    "        break\n",
    "    else:\n",
    "        pass\n",
    "m=lambda x: str([chr(i) for i in range(k1, x+1)]).replace(\",\",\"\").replace(\"[\",\"\").replace(\"]\",\"\").replace(\"'\",\"\")\n",
    "x=list(map(lambda n : str((k2-n)*\" \")+m(n),range(k1, k2+1)))\n",
    "for _ in x:\n",
    "    print(_)\n"
   ]
  },
  {
   "cell_type": "code",
   "execution_count": null,
   "id": "eb01bdc8",
   "metadata": {},
   "outputs": [],
   "source": []
  }
 ],
 "metadata": {
  "kernelspec": {
   "display_name": "Python 3 (ipykernel)",
   "language": "python",
   "name": "python3"
  },
  "language_info": {
   "codemirror_mode": {
    "name": "ipython",
    "version": 3
   },
   "file_extension": ".py",
   "mimetype": "text/x-python",
   "name": "python",
   "nbconvert_exporter": "python",
   "pygments_lexer": "ipython3",
   "version": "3.9.12"
  }
 },
 "nbformat": 4,
 "nbformat_minor": 5
}
