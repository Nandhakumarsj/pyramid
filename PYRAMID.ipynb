{
 "cells": [
  {
   "cell_type": "markdown",
   "id": "4ad2cc5e",
   "metadata": {},
   "source": [
    "# Program to display Pyramid from the given Input"
   ]
  },
  {
   "cell_type": "code",
   "execution_count": 1,
   "id": "67108a71-0f04-4575-84fd-08b506de952e",
   "metadata": {},
   "outputs": [],
   "source": [
    "footer=\"\"\"\n",
    "    #Program to display pyramid structure\n",
    "    #By Nandhakumar S J \n",
    "    #CSE(AI&ML)\"\"\"\n",
    "import time as te\n",
    "_st=te.time()\n",
    "while(True):\n",
    "    k1=ord(input(\"Enter a starting character :\"))\n",
    "    k2=ord(input(\"Enter a ending character :\"))\n",
    "    \n",
    "    if k1>k2:\n",
    "        print(\"Note! Start value must be smaller number than End value\")\n",
    "        pass\n",
    "    \n",
    "    elif k2>k1:\n",
    "        break\n",
    "    \n",
    "    else:\n",
    "        raise ValueError\n",
    "\n",
    "\n",
    "m=lambda x: str([chr(i) for i in range(k1, x+1)]).replace(\",\",\"\").replace(\"[\",\"\").replace(\"]\",\"\").replace(\"'\",\"\")\n",
    "x=list(map(lambda n : str((k2-n)*\" \")+m(n),range(k1, k2+1)))\n",
    "print(\"\\n\"*2)\n",
    "\n",
    "for _ in x:\n",
    "    print(_)\n",
    "\n",
    "_end=te.time()\n",
    "print(\"\\n \\t Time complexity of this program is : {} second(s)\".format(_end-_st))\n",
    "    \n",
    "try:\n",
    "    print(\"\\n\\t\"+footer)\n",
    "\n",
    "except EOFError:\n",
    "    print(\"\\n End of File by NANDHAKUMAR \")"
   ]
  }
 ],
 "metadata": {
  "kernelspec": {
   "display_name": "Python 3 (ipykernel)",
   "language": "python",
   "name": "python3"
  },
  "language_info": {
   "codemirror_mode": {
    "name": "ipython",
    "version": 3
   },
   "file_extension": ".py",
   "mimetype": "text/x-python",
   "name": "python",
   "nbconvert_exporter": "python",
   "pygments_lexer": "ipython3",
   "version": "3.9.12"
  }
 },
 "nbformat": 4,
 "nbformat_minor": 5
}
